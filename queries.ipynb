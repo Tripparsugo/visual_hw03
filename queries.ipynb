{
 "cells": [
  {
   "cell_type": "code",
   "execution_count": 25,
   "metadata": {
    "collapsed": true
   },
   "outputs": [],
   "source": [
    "\n",
    "from user_token import USER_TOKEN\n",
    "import requests\n",
    "import json\n",
    "\n",
    "def do_elastic_query(query):\n",
    "    body = json.dumps(query, indent=4)\n",
    "    headers = {\"Content-Type\": \"application/json\", \"Authorization\": \"Bearer \" + USER_TOKEN}\n",
    "    url = \"http://localhost:9200/rs1/_search\"\n",
    "    res = requests.get(data=body, headers=headers, url=url)\n",
    "    return res"
   ]
  },
  {
   "cell_type": "code",
   "execution_count": 26,
   "outputs": [
    {
     "data": {
      "text/plain": "{'took': 84,\n 'timed_out': False,\n '_shards': {'total': 1, 'successful': 1, 'skipped': 0, 'failed': 0},\n 'hits': {'total': {'value': 1, 'relation': 'eq'},\n  'max_score': 6.4178452,\n  'hits': [{'_index': 'rs1',\n    '_type': '_doc',\n    '_id': '_pirZYABikYBi-qbiyGa',\n    '_score': 6.4178452,\n    '_source': {'RestaurantID': '15008',\n     'RestaurantName': 'Hot Breads',\n     'City': 'Ludhiana',\n     'AverageCostForTwo': 800.0,\n     'AggregateRating': 4.2,\n     'RatingText': 'Very Good',\n     'Votes': 261.0,\n     'Date': '2016-04-12 15:58:03',\n     'Location': [75.82172044, 30.89323422]}}]}}"
     },
     "execution_count": 26,
     "metadata": {},
     "output_type": "execute_result"
    }
   ],
   "source": [
    "query = {\n",
    "    \"query\": {\n",
    "        \"bool\": {\n",
    "            \"must\":\n",
    "                [\n",
    "                    {\n",
    "                        \"match\": {\n",
    "                            \"RestaurantName\": \"hot\"}\n",
    "                    },\n",
    "                    {\n",
    "                        \"range\": {\n",
    "                            \"AggregateRating\": {\n",
    "                                \"gte\": 4,\n",
    "                                \"lte\": 5\n",
    "                            }\n",
    "                        }\n",
    "                    }\n",
    "                ],\n",
    "            \"must_not\":\n",
    "                {\n",
    "                    \"match\": {\n",
    "                        \"City\": \"Abu Dhabi\"\n",
    "                    }\n",
    "                }\n",
    "        }\n",
    "    }\n",
    "}\n",
    "\n",
    "res = do_elastic_query(query)\n",
    "res.json()"
   ],
   "metadata": {
    "collapsed": false,
    "pycharm": {
     "name": "#%%\n"
    }
   }
  },
  {
   "cell_type": "code",
   "execution_count": 27,
   "outputs": [
    {
     "data": {
      "text/plain": "{'took': 202,\n 'timed_out': False,\n '_shards': {'total': 1, 'successful': 1, 'skipped': 0, 'failed': 0},\n 'hits': {'total': {'value': 992, 'relation': 'eq'},\n  'max_score': None,\n  'hits': [{'_index': 'rs1',\n    '_type': '_doc',\n    '_id': 'LJirZYABikYBi-qbiySb',\n    '_score': None,\n    '_source': {'RestaurantID': '310143',\n     'RestaurantName': 'Naturals Ice Cream',\n     'City': 'New Delhi',\n     'AverageCostForTwo': 150.0,\n     'AggregateRating': 4.9,\n     'RatingText': 'Excellent',\n     'Votes': 2620.0,\n     'Date': '2017-08-30 11:33:49',\n     'Location': [77.2221482, 28.6343484]},\n    'sort': [4.9]},\n   {'_index': 'rs1',\n    '_type': '_doc',\n    '_id': 'LpirZYABikYBi-qbiymd',\n    '_score': None,\n    '_source': {'RestaurantID': '18345728',\n     'RestaurantName': 'Masala Library',\n     'City': 'New Delhi',\n     'AverageCostForTwo': 5000.0,\n     'AggregateRating': 4.9,\n     'RatingText': 'Excellent',\n     'Votes': 408.0,\n     'Date': '2018-08-25 14:07:01',\n     'Location': [77.2186451, 28.6182446]},\n    'sort': [4.9]},\n   {'_index': 'rs1',\n    '_type': '_doc',\n    '_id': 'K5irZYABikYBi-qbiySb',\n    '_score': None,\n    '_source': {'RestaurantID': '18418277',\n     'RestaurantName': 'MOB Brewpub',\n     'City': 'New Delhi',\n     'AverageCostForTwo': 1500.0,\n     'AggregateRating': 4.7,\n     'RatingText': 'Excellent',\n     'Votes': 52.0,\n     'Date': '2017-10-31 23:10:40',\n     'Location': [77.2226422, 28.6332756]},\n    'sort': [4.7]},\n   {'_index': 'rs1',\n    '_type': '_doc',\n    '_id': 'LZirZYABikYBi-qbiySb',\n    '_score': None,\n    '_source': {'RestaurantID': '18357940',\n     'RestaurantName': 'Zabardast Indian Kitchen',\n     'City': 'New Delhi',\n     'AverageCostForTwo': 1800.0,\n     'AggregateRating': 4.7,\n     'RatingText': 'Excellent',\n     'Votes': 242.0,\n     'Date': '2017-06-28 19:18:26',\n     'Location': [77.22217988, 28.63259937]},\n    'sort': [4.7]},\n   {'_index': 'rs1',\n    '_type': '_doc',\n    '_id': 'f5irZYABikYBi-qbiyqd',\n    '_score': None,\n    '_source': {'RestaurantID': '8244',\n     'RestaurantName': 'Big Chill',\n     'City': 'New Delhi',\n     'AverageCostForTwo': 1500.0,\n     'AggregateRating': 4.6,\n     'RatingText': 'Excellent',\n     'Votes': 1569.0,\n     'Date': '2017-05-01 07:56:49',\n     'Location': [77.2275373, 28.6005429]},\n    'sort': [4.6]},\n   {'_index': 'rs1',\n    '_type': '_doc',\n    '_id': 'wZirZYABikYBi-qbiyOb',\n    '_score': None,\n    '_source': {'RestaurantID': '303642',\n     'RestaurantName': 'Kuremal Mohan Lal Kulfi Wale',\n     'City': 'New Delhi',\n     'AverageCostForTwo': 200.0,\n     'AggregateRating': 4.5,\n     'RatingText': 'Excellent',\n     'Votes': 545.0,\n     'Date': '2018-06-26 17:41:49',\n     'Location': [77.2270433, 28.6477617]},\n    'sort': [4.5]},\n   {'_index': 'rs1',\n    '_type': '_doc',\n    '_id': 'fpirZYABikYBi-qbiyqd',\n    '_score': None,\n    '_source': {'RestaurantID': '1614',\n     'RestaurantName': 'Big Chill',\n     'City': 'New Delhi',\n     'AverageCostForTwo': 1500.0,\n     'AggregateRating': 4.5,\n     'RatingText': 'Excellent',\n     'Votes': 4986.0,\n     'Date': '2017-04-14 04:21:35',\n     'Location': [77.2274475, 28.6006239]},\n    'sort': [4.5]},\n   {'_index': 'rs1',\n    '_type': '_doc',\n    '_id': 'CZirZYABikYBi-qbizGg',\n    '_score': None,\n    '_source': {'RestaurantID': '305525',\n     'RestaurantName': 'Cafe Lota',\n     'City': 'New Delhi',\n     'AverageCostForTwo': 1200.0,\n     'AggregateRating': 4.5,\n     'RatingText': 'Excellent',\n     'Votes': 2213.0,\n     'Date': '2018-06-27 21:31:49',\n     'Location': [77.2419091, 28.6131676]},\n    'sort': [4.5]},\n   {'_index': 'rs1',\n    '_type': '_doc',\n    '_id': 'v5irZYABikYBi-qbiyOb',\n    '_score': None,\n    '_source': {'RestaurantID': '18264992',\n     'RestaurantName': 'Lakhori - Haveli Dharampura',\n     'City': 'New Delhi',\n     'AverageCostForTwo': 3000.0,\n     'AggregateRating': 4.4,\n     'RatingText': 'Very Good',\n     'Votes': 305.0,\n     'Date': '2018-10-08 14:15:08',\n     'Location': [77.2322078, 28.653316]},\n    'sort': [4.4]},\n   {'_index': 'rs1',\n    '_type': '_doc',\n    '_id': 'e5irZYABikYBi-qbiySb',\n    '_score': None,\n    '_source': {'RestaurantID': '18241537',\n     'RestaurantName': '38 Barracks',\n     'City': 'New Delhi',\n     'AverageCostForTwo': 1600.0,\n     'AggregateRating': 4.4,\n     'RatingText': 'Very Good',\n     'Votes': 840.0,\n     'Date': '2016-11-22 22:13:12',\n     'Location': [77.22285848, 28.63302489]},\n    'sort': [4.4]}]}}"
     },
     "execution_count": 27,
     "metadata": {},
     "output_type": "execute_result"
    }
   ],
   "source": [
    "query = {\n",
    "  \"query\": {\n",
    "    \"bool\": {\n",
    "      \"must\": {\n",
    "        \"match_all\": {}\n",
    "      },\n",
    "      \"filter\": {\n",
    "        \"geo_distance\": {\n",
    "          \"distance\": \"5km\",\n",
    "          \"Location\": {\n",
    "            \"lat\": 28.6139,\n",
    "            \"lon\": 77.209\n",
    "          }\n",
    "        }\n",
    "      }\n",
    "    }\n",
    "  },\n",
    "  \"sort\": [\n",
    "    {\n",
    "      \"AggregateRating\": {\n",
    "        \"order\": \"desc\"\n",
    "      }\n",
    "    }\n",
    "  ]\n",
    "}\n",
    "\n",
    "res = do_elastic_query(query)\n",
    "res.json()"
   ],
   "metadata": {
    "collapsed": false,
    "pycharm": {
     "name": "#%%\n"
    }
   }
  },
  {
   "cell_type": "code",
   "execution_count": 28,
   "outputs": [
    {
     "data": {
      "text/plain": "{'took': 804,\n 'timed_out': False,\n '_shards': {'total': 1, 'successful': 1, 'skipped': 0, 'failed': 0},\n 'hits': {'total': {'value': 178, 'relation': 'eq'},\n  'max_score': 1.0,\n  'hits': [{'_index': 'rs1',\n    '_type': '_doc',\n    '_id': '_5irZYABikYBi-qbixiV',\n    '_score': 1.0,\n    '_source': {'City': 'Augusta',\n     'RestaurantName': 'The Taj of India',\n     'AggregateRating': 4.0},\n    'highlight': {'RestaurantName': ['The Taj of <em>India</em>']}},\n   {'_index': 'rs1',\n    '_type': '_doc',\n    '_id': 'IJirZYABikYBi-qbixmV',\n    '_score': 1.0,\n    '_source': {'City': 'Cedar Rapids/Iowa City',\n     'RestaurantName': 'Taste of India',\n     'AggregateRating': 4.2},\n    'highlight': {'RestaurantName': ['Taste of <em>India</em>']}},\n   {'_index': 'rs1',\n    '_type': '_doc',\n    '_id': 'JJirZYABikYBi-qbixmV',\n    '_score': 1.0,\n    '_source': {'City': 'Cedar Rapids/Iowa City',\n     'RestaurantName': 'Exotic India',\n     'AggregateRating': 4.1},\n    'highlight': {'RestaurantName': ['Exotic <em>India</em>']}},\n   {'_index': 'rs1',\n    '_type': '_doc',\n    '_id': 'BpirZYABikYBi-qbixqV',\n    '_score': 1.0,\n    '_source': {'City': 'Pocatello',\n     'RestaurantName': 'Taste of India Nepal',\n     'AggregateRating': 3.8},\n    'highlight': {'RestaurantName': ['Taste of <em>India</em> Nepal']}},\n   {'_index': 'rs1',\n    '_type': '_doc',\n    '_id': 'g5irZYABikYBi-qbixqW',\n    '_score': 1.0,\n    '_source': {'City': 'Valdosta',\n     'RestaurantName': 'Passage 2 India',\n     'AggregateRating': 3.8},\n    'highlight': {'RestaurantName': ['Passage 2 <em>India</em>']}},\n   {'_index': 'rs1',\n    '_type': '_doc',\n    '_id': 'r5irZYABikYBi-qbixqW',\n    '_score': 1.0,\n    '_source': {'City': 'Abu Dhabi',\n     'RestaurantName': 'Indian By Nature',\n     'AggregateRating': 4.3},\n    'highlight': {'RestaurantName': ['<em>Indian</em> By Nature']}},\n   {'_index': 'rs1',\n    '_type': '_doc',\n    '_id': 'u5irZYABikYBi-qbixqW',\n    '_score': 1.0,\n    '_source': {'City': 'Dubai',\n     'RestaurantName': 'Carnival By Tresind',\n     'AggregateRating': 4.9},\n    'highlight': {'RestaurantName': ['Carnival By <em>Tresind</em>']}},\n   {'_index': 'rs1',\n    '_type': '_doc',\n    '_id': 'wpirZYABikYBi-qbixqW',\n    '_score': 1.0,\n    '_source': {'City': 'Dubai',\n     'RestaurantName': 'Tresind - Nassima Royal Hotel',\n     'AggregateRating': 4.9},\n    'highlight': {'RestaurantName': ['<em>Tresind</em> - Nassima Royal Hotel']}},\n   {'_index': 'rs1',\n    '_type': '_doc',\n    '_id': '7ZirZYABikYBi-qbixqW',\n    '_score': 1.0,\n    '_source': {'City': 'Agra',\n     'RestaurantName': 'Pind Balluchi',\n     'AggregateRating': 3.7},\n    'highlight': {'RestaurantName': ['<em>Pind</em> Balluchi']}},\n   {'_index': 'rs1',\n    '_type': '_doc',\n    '_id': 'DpirZYABikYBi-qbixuW',\n    '_score': 1.0,\n    '_source': {'City': 'Allahabad',\n     'RestaurantName': 'Pind Balluchi',\n     'AggregateRating': 3.2},\n    'highlight': {'RestaurantName': ['<em>Pind</em> Balluchi']}}]}}"
     },
     "execution_count": 28,
     "metadata": {},
     "output_type": "execute_result"
    }
   ],
   "source": [
    "query = {\n",
    "  \"query\": {\n",
    "    \"regexp\": {\n",
    "      \"RestaurantName\": {\n",
    "        \"value\": \".*ind.*\",\n",
    "        \"flags\": \"ALL\",\n",
    "        \"case_insensitive\": True,\n",
    "        \"max_determinized_states\": 10000\n",
    "      }\n",
    "    }\n",
    "  },\n",
    "  \"highlight\": {\n",
    "    \"fields\": {\n",
    "      \"RestaurantName\": {  }\n",
    "    }\n",
    "  },\n",
    "  \"_source\": {\n",
    "    \"includes\": [\n",
    "      \"RestaurantName\",\n",
    "      \"City\",\n",
    "      \"AggregateRating\"\n",
    "    ]\n",
    "  }\n",
    "}\n",
    "\n",
    "res = do_elastic_query(query)\n",
    "res.json()"
   ],
   "metadata": {
    "collapsed": false,
    "pycharm": {
     "name": "#%%\n"
    }
   }
  },
  {
   "cell_type": "code",
   "execution_count": 29,
   "outputs": [
    {
     "data": {
      "text/plain": "{'took': 398,\n 'timed_out': False,\n '_shards': {'total': 1, 'successful': 1, 'skipped': 0, 'failed': 0},\n 'hits': {'total': {'value': 9, 'relation': 'eq'},\n  'max_score': 1.0,\n  'hits': [{'_index': 'rs1',\n    '_type': '_doc',\n    '_id': 'ZZirZYABikYBi-qbiyCZ',\n    '_score': 1.0,\n    '_source': {'RestaurantID': '18462602',\n     'RestaurantName': 'Delicious Food Corner',\n     'City': 'Gurgaon',\n     'AverageCostForTwo': 400.0,\n     'AggregateRating': 0.0,\n     'RatingText': 'Not rated',\n     'Votes': 0.0,\n     'Date': '2016-10-04 16:57:29',\n     'Location': [77.0947125, 28.4810852]}},\n   {'_index': 'rs1',\n    '_type': '_doc',\n    '_id': '85irZYABikYBi-qbiyac',\n    '_score': 1.0,\n    '_source': {'RestaurantID': '311690',\n     'RestaurantName': 'MR.D - Deliciousness Delivered',\n     'City': 'New Delhi',\n     'AverageCostForTwo': 700.0,\n     'AggregateRating': 3.3,\n     'RatingText': 'Average',\n     'Votes': 148.0,\n     'Date': '2016-05-23 01:34:27',\n     'Location': [77.2457421, 28.5281318]}},\n   {'_index': 'rs1',\n    '_type': '_doc',\n    '_id': 'eZirZYABikYBi-qbiymd',\n    '_score': 1.0,\n    '_source': {'RestaurantID': '304876',\n     'RestaurantName': 'MR.D - Deliciousness Delivered',\n     'City': 'New Delhi',\n     'AverageCostForTwo': 700.0,\n     'AggregateRating': 3.5,\n     'RatingText': 'Good',\n     'Votes': 367.0,\n     'Date': '2016-03-09 03:25:20',\n     'Location': [77.2402908, 28.556673]}},\n   {'_index': 'rs1',\n    '_type': '_doc',\n    '_id': 'NZirZYABikYBi-qbiy-f',\n    '_score': 1.0,\n    '_source': {'RestaurantID': '18355121',\n     'RestaurantName': 'Delicious Eating Corner',\n     'City': 'New Delhi',\n     'AverageCostForTwo': 400.0,\n     'AggregateRating': 0.0,\n     'RatingText': 'Not rated',\n     'Votes': 0.0,\n     'Date': '2018-01-03 06:30:19',\n     'Location': [77.2511121, 28.5471678]}},\n   {'_index': 'rs1',\n    '_type': '_doc',\n    '_id': 'UZirZYABikYBi-qbizaj',\n    '_score': 1.0,\n    '_source': {'RestaurantID': '18372666',\n     'RestaurantName': 'The Darjiling Delicious Chinese Food',\n     'City': 'New Delhi',\n     'AverageCostForTwo': 100.0,\n     'AggregateRating': 0.0,\n     'RatingText': 'Not rated',\n     'Votes': 3.0,\n     'Date': '2018-06-24 17:12:52',\n     'Location': [77.0608752, 28.6211626]}},\n   {'_index': 'rs1',\n    '_type': '_doc',\n    '_id': '0ZirZYABikYBi-qbizaj',\n    '_score': 1.0,\n    '_source': {'RestaurantID': '18499026',\n     'RestaurantName': 'Delicious Cake',\n     'City': 'New Delhi',\n     'AverageCostForTwo': 300.0,\n     'AggregateRating': 0.0,\n     'RatingText': 'Not rated',\n     'Votes': 0.0,\n     'Date': '2018-01-23 22:21:06',\n     'Location': [0.0, 0.0]}},\n   {'_index': 'rs1',\n    '_type': '_doc',\n    '_id': 'mJirZYABikYBi-qbizmk',\n    '_score': 1.0,\n    '_source': {'RestaurantID': '302575',\n     'RestaurantName': 'Yours Deliciously',\n     'City': 'Noida',\n     'AverageCostForTwo': 350.0,\n     'AggregateRating': 2.9,\n     'RatingText': 'Average',\n     'Votes': 4.0,\n     'Date': '2016-12-26 06:50:36',\n     'Location': [77.3235133, 28.5737946]}},\n   {'_index': 'rs1',\n    '_type': '_doc',\n    '_id': 'ppirZYABikYBi-qbizql',\n    '_score': 1.0,\n    '_source': {'RestaurantID': '18368602',\n     'RestaurantName': 'Delicious Treasure',\n     'City': 'Noida',\n     'AverageCostForTwo': 300.0,\n     'AggregateRating': 0.0,\n     'RatingText': 'Not rated',\n     'Votes': 2.0,\n     'Date': '2016-07-27 16:30:57',\n     'Location': [77.3655244, 28.5879739]}},\n   {'_index': 'rs1',\n    '_type': '_doc',\n    '_id': 'vpirZYABikYBi-qbizql',\n    '_score': 1.0,\n    '_source': {'RestaurantID': '302502',\n     'RestaurantName': 'Foodelicious',\n     'City': 'Noida',\n     'AverageCostForTwo': 500.0,\n     'AggregateRating': 3.1,\n     'RatingText': 'Average',\n     'Votes': 144.0,\n     'Date': '2016-01-20 10:18:39',\n     'Location': [77.3427967, 28.6033255]}}]},\n 'aggregations': {'rating_range': {'buckets': [{'key': '*-3.0',\n     'to': 3.0,\n     'doc_count': 6,\n     'docs': {'hits': {'total': {'value': 6, 'relation': 'eq'},\n       'max_score': 1.0,\n       'hits': [{'_index': 'rs1',\n         '_type': '_doc',\n         '_id': 'ZZirZYABikYBi-qbiyCZ',\n         '_score': 1.0,\n         '_source': {'RestaurantID': '18462602',\n          'RestaurantName': 'Delicious Food Corner',\n          'City': 'Gurgaon',\n          'AverageCostForTwo': 400.0,\n          'AggregateRating': 0.0,\n          'RatingText': 'Not rated',\n          'Votes': 0.0,\n          'Date': '2016-10-04 16:57:29',\n          'Location': [77.0947125, 28.4810852]}},\n        {'_index': 'rs1',\n         '_type': '_doc',\n         '_id': 'NZirZYABikYBi-qbiy-f',\n         '_score': 1.0,\n         '_source': {'RestaurantID': '18355121',\n          'RestaurantName': 'Delicious Eating Corner',\n          'City': 'New Delhi',\n          'AverageCostForTwo': 400.0,\n          'AggregateRating': 0.0,\n          'RatingText': 'Not rated',\n          'Votes': 0.0,\n          'Date': '2018-01-03 06:30:19',\n          'Location': [77.2511121, 28.5471678]}},\n        {'_index': 'rs1',\n         '_type': '_doc',\n         '_id': 'UZirZYABikYBi-qbizaj',\n         '_score': 1.0,\n         '_source': {'RestaurantID': '18372666',\n          'RestaurantName': 'The Darjiling Delicious Chinese Food',\n          'City': 'New Delhi',\n          'AverageCostForTwo': 100.0,\n          'AggregateRating': 0.0,\n          'RatingText': 'Not rated',\n          'Votes': 3.0,\n          'Date': '2018-06-24 17:12:52',\n          'Location': [77.0608752, 28.6211626]}},\n        {'_index': 'rs1',\n         '_type': '_doc',\n         '_id': '0ZirZYABikYBi-qbizaj',\n         '_score': 1.0,\n         '_source': {'RestaurantID': '18499026',\n          'RestaurantName': 'Delicious Cake',\n          'City': 'New Delhi',\n          'AverageCostForTwo': 300.0,\n          'AggregateRating': 0.0,\n          'RatingText': 'Not rated',\n          'Votes': 0.0,\n          'Date': '2018-01-23 22:21:06',\n          'Location': [0.0, 0.0]}},\n        {'_index': 'rs1',\n         '_type': '_doc',\n         '_id': 'mJirZYABikYBi-qbizmk',\n         '_score': 1.0,\n         '_source': {'RestaurantID': '302575',\n          'RestaurantName': 'Yours Deliciously',\n          'City': 'Noida',\n          'AverageCostForTwo': 350.0,\n          'AggregateRating': 2.9,\n          'RatingText': 'Average',\n          'Votes': 4.0,\n          'Date': '2016-12-26 06:50:36',\n          'Location': [77.3235133, 28.5737946]}},\n        {'_index': 'rs1',\n         '_type': '_doc',\n         '_id': 'ppirZYABikYBi-qbizql',\n         '_score': 1.0,\n         '_source': {'RestaurantID': '18368602',\n          'RestaurantName': 'Delicious Treasure',\n          'City': 'Noida',\n          'AverageCostForTwo': 300.0,\n          'AggregateRating': 0.0,\n          'RatingText': 'Not rated',\n          'Votes': 2.0,\n          'Date': '2016-07-27 16:30:57',\n          'Location': [77.3655244, 28.5879739]}}]}}},\n    {'key': '*-5.0',\n     'to': 5.0,\n     'doc_count': 9,\n     'docs': {'hits': {'total': {'value': 9, 'relation': 'eq'},\n       'max_score': 1.0,\n       'hits': [{'_index': 'rs1',\n         '_type': '_doc',\n         '_id': 'ZZirZYABikYBi-qbiyCZ',\n         '_score': 1.0,\n         '_source': {'RestaurantID': '18462602',\n          'RestaurantName': 'Delicious Food Corner',\n          'City': 'Gurgaon',\n          'AverageCostForTwo': 400.0,\n          'AggregateRating': 0.0,\n          'RatingText': 'Not rated',\n          'Votes': 0.0,\n          'Date': '2016-10-04 16:57:29',\n          'Location': [77.0947125, 28.4810852]}},\n        {'_index': 'rs1',\n         '_type': '_doc',\n         '_id': '85irZYABikYBi-qbiyac',\n         '_score': 1.0,\n         '_source': {'RestaurantID': '311690',\n          'RestaurantName': 'MR.D - Deliciousness Delivered',\n          'City': 'New Delhi',\n          'AverageCostForTwo': 700.0,\n          'AggregateRating': 3.3,\n          'RatingText': 'Average',\n          'Votes': 148.0,\n          'Date': '2016-05-23 01:34:27',\n          'Location': [77.2457421, 28.5281318]}},\n        {'_index': 'rs1',\n         '_type': '_doc',\n         '_id': 'eZirZYABikYBi-qbiymd',\n         '_score': 1.0,\n         '_source': {'RestaurantID': '304876',\n          'RestaurantName': 'MR.D - Deliciousness Delivered',\n          'City': 'New Delhi',\n          'AverageCostForTwo': 700.0,\n          'AggregateRating': 3.5,\n          'RatingText': 'Good',\n          'Votes': 367.0,\n          'Date': '2016-03-09 03:25:20',\n          'Location': [77.2402908, 28.556673]}},\n        {'_index': 'rs1',\n         '_type': '_doc',\n         '_id': 'NZirZYABikYBi-qbiy-f',\n         '_score': 1.0,\n         '_source': {'RestaurantID': '18355121',\n          'RestaurantName': 'Delicious Eating Corner',\n          'City': 'New Delhi',\n          'AverageCostForTwo': 400.0,\n          'AggregateRating': 0.0,\n          'RatingText': 'Not rated',\n          'Votes': 0.0,\n          'Date': '2018-01-03 06:30:19',\n          'Location': [77.2511121, 28.5471678]}},\n        {'_index': 'rs1',\n         '_type': '_doc',\n         '_id': 'UZirZYABikYBi-qbizaj',\n         '_score': 1.0,\n         '_source': {'RestaurantID': '18372666',\n          'RestaurantName': 'The Darjiling Delicious Chinese Food',\n          'City': 'New Delhi',\n          'AverageCostForTwo': 100.0,\n          'AggregateRating': 0.0,\n          'RatingText': 'Not rated',\n          'Votes': 3.0,\n          'Date': '2018-06-24 17:12:52',\n          'Location': [77.0608752, 28.6211626]}},\n        {'_index': 'rs1',\n         '_type': '_doc',\n         '_id': '0ZirZYABikYBi-qbizaj',\n         '_score': 1.0,\n         '_source': {'RestaurantID': '18499026',\n          'RestaurantName': 'Delicious Cake',\n          'City': 'New Delhi',\n          'AverageCostForTwo': 300.0,\n          'AggregateRating': 0.0,\n          'RatingText': 'Not rated',\n          'Votes': 0.0,\n          'Date': '2018-01-23 22:21:06',\n          'Location': [0.0, 0.0]}},\n        {'_index': 'rs1',\n         '_type': '_doc',\n         '_id': 'mJirZYABikYBi-qbizmk',\n         '_score': 1.0,\n         '_source': {'RestaurantID': '302575',\n          'RestaurantName': 'Yours Deliciously',\n          'City': 'Noida',\n          'AverageCostForTwo': 350.0,\n          'AggregateRating': 2.9,\n          'RatingText': 'Average',\n          'Votes': 4.0,\n          'Date': '2016-12-26 06:50:36',\n          'Location': [77.3235133, 28.5737946]}},\n        {'_index': 'rs1',\n         '_type': '_doc',\n         '_id': 'ppirZYABikYBi-qbizql',\n         '_score': 1.0,\n         '_source': {'RestaurantID': '18368602',\n          'RestaurantName': 'Delicious Treasure',\n          'City': 'Noida',\n          'AverageCostForTwo': 300.0,\n          'AggregateRating': 0.0,\n          'RatingText': 'Not rated',\n          'Votes': 2.0,\n          'Date': '2016-07-27 16:30:57',\n          'Location': [77.3655244, 28.5879739]}},\n        {'_index': 'rs1',\n         '_type': '_doc',\n         '_id': 'vpirZYABikYBi-qbizql',\n         '_score': 1.0,\n         '_source': {'RestaurantID': '302502',\n          'RestaurantName': 'Foodelicious',\n          'City': 'Noida',\n          'AverageCostForTwo': 500.0,\n          'AggregateRating': 3.1,\n          'RatingText': 'Average',\n          'Votes': 144.0,\n          'Date': '2016-01-20 10:18:39',\n          'Location': [77.3427967, 28.6033255]}}]}}},\n    {'key': '3.0-4.0',\n     'from': 3.0,\n     'to': 4.0,\n     'doc_count': 3,\n     'docs': {'hits': {'total': {'value': 3, 'relation': 'eq'},\n       'max_score': 1.0,\n       'hits': [{'_index': 'rs1',\n         '_type': '_doc',\n         '_id': '85irZYABikYBi-qbiyac',\n         '_score': 1.0,\n         '_source': {'RestaurantID': '311690',\n          'RestaurantName': 'MR.D - Deliciousness Delivered',\n          'City': 'New Delhi',\n          'AverageCostForTwo': 700.0,\n          'AggregateRating': 3.3,\n          'RatingText': 'Average',\n          'Votes': 148.0,\n          'Date': '2016-05-23 01:34:27',\n          'Location': [77.2457421, 28.5281318]}},\n        {'_index': 'rs1',\n         '_type': '_doc',\n         '_id': 'eZirZYABikYBi-qbiymd',\n         '_score': 1.0,\n         '_source': {'RestaurantID': '304876',\n          'RestaurantName': 'MR.D - Deliciousness Delivered',\n          'City': 'New Delhi',\n          'AverageCostForTwo': 700.0,\n          'AggregateRating': 3.5,\n          'RatingText': 'Good',\n          'Votes': 367.0,\n          'Date': '2016-03-09 03:25:20',\n          'Location': [77.2402908, 28.556673]}},\n        {'_index': 'rs1',\n         '_type': '_doc',\n         '_id': 'vpirZYABikYBi-qbizql',\n         '_score': 1.0,\n         '_source': {'RestaurantID': '302502',\n          'RestaurantName': 'Foodelicious',\n          'City': 'Noida',\n          'AverageCostForTwo': 500.0,\n          'AggregateRating': 3.1,\n          'RatingText': 'Average',\n          'Votes': 144.0,\n          'Date': '2016-01-20 10:18:39',\n          'Location': [77.3427967, 28.6033255]}}]}}}]}}}"
     },
     "execution_count": 29,
     "metadata": {},
     "output_type": "execute_result"
    }
   ],
   "source": [
    "query = {\n",
    "  \"query\": {\n",
    "    \"regexp\": {\n",
    "      \"RestaurantName\": {\n",
    "        \"value\": \".*delicious.*\",\n",
    "        \"flags\": \"ALL\",\n",
    "        \"case_insensitive\": True,\n",
    "        \"max_determinized_states\": 10000\n",
    "      }\n",
    "    }\n",
    "  },\n",
    "  \"aggs\": {\n",
    "    \"rating_range\": {\n",
    "      \"range\": {\n",
    "        \"field\": \"AggregateRating\",\n",
    "        \"ranges\": [\n",
    "          {\n",
    "            \"to\": 3\n",
    "          },\n",
    "          {\n",
    "            \"from\": 3,\n",
    "            \"to\": 4\n",
    "          },\n",
    "          {\n",
    "            \"to\": 5\n",
    "          }\n",
    "        ]\n",
    "      },\n",
    "      \"aggs\": {\n",
    "        \"docs\": {\n",
    "          \"top_hits\": {\n",
    "            \"size\": 10\n",
    "          }\n",
    "        }\n",
    "      }\n",
    "    }\n",
    "  }\n",
    "}\n",
    "\n",
    "res = do_elastic_query(query)\n",
    "res.json()"
   ],
   "metadata": {
    "collapsed": false,
    "pycharm": {
     "name": "#%%\n"
    }
   }
  },
  {
   "cell_type": "markdown",
   "source": [],
   "metadata": {
    "collapsed": false
   }
  },
  {
   "cell_type": "code",
   "execution_count": 30,
   "outputs": [
    {
     "data": {
      "text/plain": "{'took': 232,\n 'timed_out': False,\n '_shards': {'total': 1, 'successful': 1, 'skipped': 0, 'failed': 0},\n 'hits': {'total': {'value': 291, 'relation': 'eq'},\n  'max_score': None,\n  'hits': []},\n 'aggregations': {'ByCity': {'doc_count_error_upper_bound': 0,\n   'sum_other_doc_count': 5,\n   'buckets': [{'key': 'Gurgaon',\n     'doc_count': 23,\n     'AverageCostForTwo': {'value': 1852.1739130434783}},\n    {'key': 'Bangalore',\n     'doc_count': 11,\n     'AverageCostForTwo': {'value': 1390.909090909091}},\n    {'key': 'New Delhi',\n     'doc_count': 119,\n     'AverageCostForTwo': {'value': 1311.3445378151262}},\n    {'key': 'Kolkata',\n     'doc_count': 16,\n     'AverageCostForTwo': {'value': 1253.125}},\n    {'key': 'Chennai',\n     'doc_count': 14,\n     'AverageCostForTwo': {'value': 1164.2857142857142}},\n    {'key': 'Mumbai',\n     'doc_count': 11,\n     'AverageCostForTwo': {'value': 1118.1818181818182}},\n    {'key': 'Tampa Bay',\n     'doc_count': 13,\n     'AverageCostForTwo': {'value': 33.07692307692308}}]}}}"
     },
     "execution_count": 30,
     "metadata": {},
     "output_type": "execute_result"
    }
   ],
   "source": [
    "query = {\n",
    "  \"size\": 0,\n",
    "  \"query\": {\n",
    "    \"range\": {\n",
    "      \"Votes\": {\n",
    "        \"gte\": 1000\n",
    "      }\n",
    "    }\n",
    "  },\n",
    "  \"aggs\": {\n",
    "    \"ByCity\": {\n",
    "      \"terms\": {\n",
    "        \"field\": \"City.keyword\",\n",
    "        \"min_doc_count\": 10\n",
    "      },\n",
    "      \"aggs\": {\n",
    "        \"AverageCostForTwo\": {\n",
    "          \"avg\": {\n",
    "            \"field\": \"AverageCostForTwo\"\n",
    "          }\n",
    "        },\n",
    "        \"CityBucketSort\": {\n",
    "          \"bucket_sort\": {\n",
    "            \"sort\": [\n",
    "              {\n",
    "                \"AverageCostForTwo\": {\n",
    "                  \"order\": \"desc\"\n",
    "                }\n",
    "              }\n",
    "            ],\n",
    "            \"size\": 7\n",
    "          }\n",
    "        }\n",
    "      }\n",
    "    }\n",
    "  }\n",
    "}\n",
    "\n",
    "res = do_elastic_query(query)\n",
    "res.json()"
   ],
   "metadata": {
    "collapsed": false,
    "pycharm": {
     "name": "#%%\n"
    }
   }
  },
  {
   "cell_type": "code",
   "execution_count": 31,
   "outputs": [
    {
     "data": {
      "text/plain": "{'took': 136,\n 'timed_out': False,\n '_shards': {'total': 1, 'successful': 1, 'skipped': 0, 'failed': 0},\n 'hits': {'total': {'value': 9499, 'relation': 'eq'},\n  'max_score': None,\n  'hits': []},\n 'aggregations': {'ByReviewType': {'doc_count_error_upper_bound': 0,\n   'sum_other_doc_count': 0,\n   'buckets': [{'key': 'Average', 'doc_count': 3719},\n    {'key': 'Not rated', 'doc_count': 2143},\n    {'key': 'Good', 'doc_count': 2094},\n    {'key': 'Very Good', 'doc_count': 1068},\n    {'key': 'Excellent', 'doc_count': 291},\n    {'key': 'Poor', 'doc_count': 184}]}}}"
     },
     "execution_count": 31,
     "metadata": {},
     "output_type": "execute_result"
    }
   ],
   "source": [
    "query = {\n",
    "  \"size\": 0,\n",
    "  \"aggs\": {\n",
    "    \"ByReviewType\": {\n",
    "      \"terms\": {\n",
    "        \"field\": \"RatingText.keyword\"\n",
    "      },\n",
    "      \"aggs\": {\n",
    "        \"ReviewTypeBucketSort\": {\n",
    "          \"bucket_sort\": {\n",
    "            \"sort\": [\n",
    "              {\n",
    "                \"_count\": {\n",
    "                  \"order\": \"desc\"\n",
    "                }\n",
    "              }\n",
    "            ]\n",
    "          }\n",
    "        }\n",
    "      }\n",
    "    }\n",
    "  }\n",
    "}\n",
    "\n",
    "res = do_elastic_query(query)\n",
    "res.json()"
   ],
   "metadata": {
    "collapsed": false,
    "pycharm": {
     "name": "#%%\n"
    }
   }
  },
  {
   "cell_type": "code",
   "execution_count": 31,
   "outputs": [],
   "source": [],
   "metadata": {
    "collapsed": false,
    "pycharm": {
     "name": "#%%\n"
    }
   }
  }
 ],
 "metadata": {
  "kernelspec": {
   "display_name": "Python 3",
   "language": "python",
   "name": "python3"
  },
  "language_info": {
   "codemirror_mode": {
    "name": "ipython",
    "version": 2
   },
   "file_extension": ".py",
   "mimetype": "text/x-python",
   "name": "python",
   "nbconvert_exporter": "python",
   "pygments_lexer": "ipython2",
   "version": "2.7.6"
  }
 },
 "nbformat": 4,
 "nbformat_minor": 0
}